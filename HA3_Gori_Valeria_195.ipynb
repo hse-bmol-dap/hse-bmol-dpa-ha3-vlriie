{
 "cells": [
  {
   "cell_type": "markdown",
   "metadata": {},
   "source": [
    "# Task 1. (2 points)\n",
    "\n",
    "### You are given a list of integers (in the input: numbers in one line separated by one whitespace). It is required to write a function that “compresses” the given list by moving all non-zero elements to the left side of the list without changing their order, and all zeros to the right side. The order of non-zero elements cannot be changed, an additional list (memory) cannot be used, the task must be completed in one pass through the list. The function is supposed to return the resulting list.\n",
    "\n",
    "### Example:\n",
    "### input: 4 0 5 0 3 0 0 5\n",
    "### array = [4, 0, 5, 0, 3, 0, 0, 5]\n",
    "### output: [4, 5, 3, 5, 0, 0, 0, 0]"
   ]
  },
  {
   "cell_type": "code",
   "execution_count": 20,
   "metadata": {},
   "outputs": [
    {
     "name": "stdout",
     "output_type": "stream",
     "text": [
      "4 0 5 0 3 0 0 5 \n"
     ]
    },
    {
     "data": {
      "text/plain": [
       "[4, 5, 3, 5, 0, 0, 0, 0]"
      ]
     },
     "execution_count": 20,
     "metadata": {},
     "output_type": "execute_result"
    }
   ],
   "source": [
    "array = [int(x) for x in input().split()]\n",
    "\n",
    "def compress_list(array):\n",
    "    \n",
    "    for el in array[:]:\n",
    "        if el == 0:\n",
    "            array.remove(0)\n",
    "            array.append(0)\n",
    "            \n",
    "    return array\n",
    "compress_list(array)"
   ]
  },
  {
   "cell_type": "markdown",
   "metadata": {},
   "source": [
    "# Task 2. (2 points)\n",
    "\n",
    "### As you know, in the United States the president is not elected by a direct vote, but by a two-level vote. First, elections are held in each state and the winner of the elections in that state is determined. Then the state elections are held: in these elections, each state has a certain number of votes - the number of electors from that state. In practice, all state electors vote according to the results of intra-state voting, that is, states with a different number of votes vote in the final stage of elections. You know who each state voted for and how many votes were cast by that state. Sum up the results of the elections: for each of the voting participants, determine the number of votes cast for him.\n",
    "### Input format:\n",
    "### Each line of the input consists of the surname of the candidate, for which the electors of that state are voting, followed by the number of electors who voted for this candidate, separated by a space. The input lines are supposed to be read in a cycle. The input itself ends when the following line contains -1. In the end, you should obtain a list input_lines with strings, where one string equals to one input line (e.g. 'McCain 10').\n",
    "### Output format:\n",
    "### Print the surnames of all candidates in a lexicographic order and the number of votes cast for them, separated by a space.\n",
    "### Example:\n",
    "### input:\n",
    "### McCain 10\n",
    "### McCain 5\n",
    "### Obama 9\n",
    "### Obama 8\n",
    "### McCain 1\n",
    "### -1\n",
    "\n",
    "### input_lines = ['McCain 10', 'McCain 5', 'Obama 9', 'Obama 8', 'McCain 1']\n",
    "\n",
    "### output:\n",
    "### McCain 16\n",
    "### Obama 17"
   ]
  },
  {
   "cell_type": "code",
   "execution_count": 21,
   "metadata": {},
   "outputs": [
    {
     "name": "stdout",
     "output_type": "stream",
     "text": [
      "Choose your candidate: McCain 10\n",
      "Choose your candidate: McCain 5\n",
      "Choose your candidate: McCain 10\n",
      "Choose your candidate: Obama 9\n",
      "Choose your candidate: Obama 8\n",
      "Choose your candidate: -1\n"
     ]
    }
   ],
   "source": [
    "input_lines = []\n",
    "choice = input('Choose your candidate: ')\n",
    "while choice != '-1':\n",
    "    input_lines.append(choice)\n",
    "    choice = input('Choose your candidate: ')\n",
    "def count_votes(input_lines):\n",
    "    d = {}\n",
    "    for choice in input_lines:\n",
    "        surname, count = choice.split()[0], int(choice.split()[1])\n",
    "        d[surname] = d.get(surname, 0) + count\n",
    "    for surname, count in sorted(d.items()):\n",
    "        print(surname, count)\n",
    "    "
   ]
  },
  {
   "cell_type": "code",
   "execution_count": 22,
   "metadata": {},
   "outputs": [
    {
     "name": "stdout",
     "output_type": "stream",
     "text": [
      "McCain 25\n",
      "Obama 17\n"
     ]
    }
   ],
   "source": [
    "count_votes(input_lines)"
   ]
  },
  {
   "cell_type": "markdown",
   "metadata": {},
   "source": [
    "# Task 3. (2 points)\n",
    "\n",
    "### You are given a list of numbers (in the input: numbers in one line separated by one whitespace). Write a function that returns the number of pairs of elements which are equal to each other. It is considered that any two elements equal to each other form one pair, which must be counted. Indices of elements matters. In Test 2, in terms of indices, 10 pairs are the following: [0, 1], [0, 2], [0, 3], [0, 4], [1, 2], [1, 3], [1, 4], [2, 3], [2, 4], [3, 4]. That's why the answer is 10.\n",
    "### Examples:\n",
    "### Test 1\n",
    "### input: 1 2 3 2 3\n",
    "### array = [1, 2, 3, 2, 3]\n",
    "### output: 2\n",
    "### Test 2\n",
    "### input: 1 1 1 1 1\n",
    "### array = [1, 1, 1, 1, 1]\n",
    "### output: 10"
   ]
  },
  {
   "cell_type": "code",
   "execution_count": 30,
   "metadata": {},
   "outputs": [
    {
     "name": "stdout",
     "output_type": "stream",
     "text": [
      "1 2 3 2 3\n"
     ]
    },
    {
     "data": {
      "text/plain": [
       "2"
      ]
     },
     "execution_count": 30,
     "metadata": {},
     "output_type": "execute_result"
    }
   ],
   "source": [
    "array = [int(x) for x in input().split()]\n",
    "\n",
    "def count_pairs(array):\n",
    "    p = 0\n",
    "    for i in range(len(array)-1):\n",
    "        for k in range(i+1, len(array)):\n",
    "            if array[i] == array[k]:\n",
    "                p += 1\n",
    "    return p\n",
    "count_pairs(array)"
   ]
  },
  {
   "cell_type": "markdown",
   "metadata": {},
   "source": [
    "# Task 4. (2 points)\n",
    "\n",
    "### Your are given a list of countries (in the input: countries in one line separated by one whitespace). It is required to write a function that determines which country occurs most often in this list and returns it without changing an input list or using additional lists. If there are several such countries, return a list with all of them.\n",
    "### Examples:\n",
    "### Test 1\n",
    "### input: India Austria India Italy Austria India\n",
    "### countries = ['India', 'Austria', 'India', 'Italy', 'Austria', 'India']\n",
    "### output: 'India'\n",
    "### Test 2\n",
    "### input: Germany Poland Russia Germany France Russia\n",
    "### countries = ['Germany', 'Poland', 'Russia', 'Germany', 'France', 'Russia']\n",
    "### output: ['Germany', 'Russia']"
   ]
  },
  {
   "cell_type": "code",
   "execution_count": 44,
   "metadata": {},
   "outputs": [
    {
     "name": "stdout",
     "output_type": "stream",
     "text": [
      "India Austria India Italy Austria India\n"
     ]
    },
    {
     "data": {
      "text/plain": [
       "'India'"
      ]
     },
     "execution_count": 44,
     "metadata": {},
     "output_type": "execute_result"
    }
   ],
   "source": [
    "countries = [x for x in input().split()]\n",
    "\n",
    "def most_frequent_countries(countries):\n",
    "    d = {}\n",
    "    for c in countries:\n",
    "        if c in d:\n",
    "            d[c] += 1\n",
    "        else:\n",
    "            d[c] = 1\n",
    "    \n",
    "    if list(d.values()).count(max(d.values())) > 1:\n",
    "        lst = []\n",
    "        for k in d:\n",
    "            if d[k]  == max(d.values()):\n",
    "                lst.append(k)\n",
    "        return lst\n",
    "    else:\n",
    "        for k in d:\n",
    "            if d[k] == max(d.values()):\n",
    "                return k\n",
    "most_frequent_countries(countries)"
   ]
  },
  {
   "cell_type": "markdown",
   "metadata": {},
   "source": [
    "# Task 5. (2 points)\n",
    "\n",
    "### It is known that 8 queens can be placed on an 8 × 8 chessboard so that they do not beat each other. You are given the arrangement of 8 queens on the board, determine if there is a pair of them hitting each other.\n",
    "### Input format:\n",
    "### The program receives eight pairs of numbers as an input, each number from 1 to 8 is the coordinates of 8 queens.\n",
    "### Output format:\n",
    "### If the queens do not beat each other, print the word NO, otherwise print YES."
   ]
  },
  {
   "cell_type": "code",
   "execution_count": 50,
   "metadata": {},
   "outputs": [
    {
     "name": "stdout",
     "output_type": "stream",
     "text": [
      "1 8\n",
      "2 7\n",
      "3 6\n",
      "4 5\n",
      "5 4\n",
      "6 3\n",
      "7 2\n",
      "8 1\n"
     ]
    },
    {
     "data": {
      "text/plain": [
       "'YES'"
      ]
     },
     "execution_count": 50,
     "metadata": {},
     "output_type": "execute_result"
    }
   ],
   "source": [
    "input_lines = [tuple(input().split()) for i in range(8)]\n",
    "\n",
    "def is_beaten_by_queen(input_lines):\n",
    "    for i in range(len(input_lines)-1):\n",
    "        for j in range(i+1, len(input_lines)):\n",
    "            x1, y1 = int(input_lines[i][0]), int(input_lines[i][1])\n",
    "            x2, y2 = int(input_lines[j][0]), int(input_lines[j][1])\n",
    "            if x1 == x2 or y1 == y2 or abs(x1 - x2) == abs(y1 - y2):\n",
    "                return 'YES'\n",
    "    return 'NO'\n",
    "is_beaten_by_queen(input_lines)"
   ]
  }
 ],
 "metadata": {
  "kernelspec": {
   "display_name": "Python 3",
   "language": "python",
   "name": "python3"
  },
  "language_info": {
   "codemirror_mode": {
    "name": "ipython",
    "version": 3
   },
   "file_extension": ".py",
   "mimetype": "text/x-python",
   "name": "python",
   "nbconvert_exporter": "python",
   "pygments_lexer": "ipython3",
   "version": "3.7.4"
  }
 },
 "nbformat": 4,
 "nbformat_minor": 2
}
